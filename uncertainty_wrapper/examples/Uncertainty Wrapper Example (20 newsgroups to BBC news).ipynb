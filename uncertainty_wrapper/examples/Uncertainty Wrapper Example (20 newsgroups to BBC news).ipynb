{
 "cells": [
  {
   "cell_type": "markdown",
   "metadata": {},
   "source": [
    "# Uncertainty wrapper Example\n",
    "\n",
    "### Apply a classifier trained for the 20 newsgroups to the BBC news dataset\n",
    "\n",
    "This script shows how to apply the uncertainty wrapper to enrich the predictions of a trained classifier with \n",
    "the corresponding uncertainty when applied to a new domain of application. The goal is to show how to use\n",
    "a classifier already trained for one task in another task, and how we can measure that the blackbox adapts for the \n",
    "new task. We will see how wecan identify the cases where the blackbox is less confident on its predictions, \n",
    "and how we can increase the accuracy of the resulting system by rejecting those examples that more uncertain.\n",
    "\n",
    "It first trains a naive bayes classifier over newsgroups that will be the blackbox in this example. \n",
    "Then, it uses it for predicting whether a new text is talking about politics or not, by grouping all the\n",
    "newsgroups that are related to politics.\n",
    "As the target application, it uses the dataset on BBC news(https://www.kaggle.com/yufengdev/bbc-fulltext-and-category),\n",
    "making a binary classifier to predict if a news talks about politics or not."
   ]
  },
  {
   "cell_type": "code",
   "execution_count": 3,
   "metadata": {
    "ExecuteTime": {
     "end_time": "2020-10-02T07:45:14.881538Z",
     "start_time": "2020-10-02T07:45:11.811657Z"
    }
   },
   "outputs": [],
   "source": [
    "import numpy as np\n",
    "from sklearn.datasets import fetch_20newsgroups\n",
    "from sklearn.feature_extraction.text import TfidfVectorizer\n",
    "from sklearn.naive_bayes import MultinomialNB\n",
    "from sklearn.metrics import accuracy_score\n",
    "import sys\n",
    "sys.path.append('..')\n",
    "from sklwrapper import UncertaintyWrapperEstimator\n",
    "from sklwrapper.tests.test_utils import PoliticsClassifierWrapper, load_politics_data"
   ]
  },
  {
   "cell_type": "markdown",
   "metadata": {},
   "source": [
    "## Preparing the blackbox\n",
    "First we load the 20 newsgroups dataset"
   ]
  },
  {
   "cell_type": "code",
   "execution_count": 4,
   "metadata": {
    "ExecuteTime": {
     "end_time": "2020-10-02T07:45:26.532464Z",
     "start_time": "2020-10-02T07:45:25.963860Z"
    }
   },
   "outputs": [],
   "source": [
    "newsgroups_train = fetch_20newsgroups(subset='train')\n",
    "newsgroups_test = fetch_20newsgroups(subset='test')\n",
    "\n",
    "X_train = newsgroups_train.data\n",
    "X_test = newsgroups_test.data\n",
    "\n",
    "y_train = newsgroups_train.target\n",
    "y_test = newsgroups_test.target"
   ]
  },
  {
   "cell_type": "markdown",
   "metadata": {},
   "source": [
    "We create a tf/idf vectorizer for texts. It is important to remark here that it will be the same that we use for computing the uncertainty, as we need to use the same representation for obtaining the predictions when calling the blackbox trained for newsgroups."
   ]
  },
  {
   "cell_type": "code",
   "execution_count": 5,
   "metadata": {
    "ExecuteTime": {
     "end_time": "2020-10-02T07:46:02.208488Z",
     "start_time": "2020-10-02T07:45:58.877548Z"
    }
   },
   "outputs": [
    {
     "data": {
      "text/plain": [
       "TfidfVectorizer(max_features=1000)"
      ]
     },
     "execution_count": 5,
     "metadata": {},
     "output_type": "execute_result"
    }
   ],
   "source": [
    "tfidf_vectorizer = TfidfVectorizer(max_features=1000)\n",
    "tfidf_vectorizer.fit(X_train)"
   ]
  },
  {
   "cell_type": "markdown",
   "metadata": {},
   "source": [
    "We build a very simple naive bayes model using the 20 newsgroups data that will become the blackbox model.\n",
    "Observe that in this case the results are categorical, which means that we cannot use the output probabilities as a measure of uncertainty."
   ]
  },
  {
   "cell_type": "code",
   "execution_count": 6,
   "metadata": {
    "ExecuteTime": {
     "end_time": "2020-10-02T07:47:07.449549Z",
     "start_time": "2020-10-02T07:47:04.815689Z"
    }
   },
   "outputs": [
    {
     "data": {
      "text/plain": [
       "MultinomialNB()"
      ]
     },
     "execution_count": 6,
     "metadata": {},
     "output_type": "execute_result"
    }
   ],
   "source": [
    "blackbox_model = MultinomialNB()\n",
    "blackbox_model.fit(tfidf_vectorizer.transform(X_train), y_train)"
   ]
  },
  {
   "cell_type": "markdown",
   "metadata": {},
   "source": [
    "We compute the accuracy of the 20 newsgroups dataset to check that the blackbox works"
   ]
  },
  {
   "cell_type": "code",
   "execution_count": 7,
   "metadata": {
    "ExecuteTime": {
     "end_time": "2020-10-02T07:47:37.637301Z",
     "start_time": "2020-10-02T07:47:35.903060Z"
    }
   },
   "outputs": [
    {
     "data": {
      "text/plain": [
       "'accuracy of the black-box in test: 0.6565321295804567'"
      ]
     },
     "execution_count": 7,
     "metadata": {},
     "output_type": "execute_result"
    }
   ],
   "source": [
    "y_pred = blackbox_model.predict(tfidf_vectorizer.transform(X_test))\n",
    "'accuracy of the black-box in test: {}'.format(accuracy_score(y_test, y_pred))"
   ]
  },
  {
   "cell_type": "markdown",
   "metadata": {},
   "source": [
    "## Apply to the new problem\n",
    "To apply the blackbox just created for the binary problem of predicting if a news talks about politics or not\n",
    "we create a wrapper that returns 1 for those news that are related to politics and 0 otherwise."
   ]
  },
  {
   "cell_type": "code",
   "execution_count": 11,
   "metadata": {
    "ExecuteTime": {
     "end_time": "2020-10-02T07:50:28.304205Z",
     "start_time": "2020-10-02T07:50:26.659191Z"
    }
   },
   "outputs": [
    {
     "data": {
      "text/plain": [
       "'accuracy of the black-box adapted to the politics use case in test: 0.6565321295804567'"
      ]
     },
     "execution_count": 11,
     "metadata": {},
     "output_type": "execute_result"
    }
   ],
   "source": [
    "politics_model = PoliticsClassifierWrapper(blackbox_model)\n",
    "y_pred2 = politics_model.predict(tfidf_vectorizer.transform(X_test))\n",
    "'accuracy of the black-box adapted to the politics use case in test: {}'.format(accuracy_score(y_test, y_pred))"
   ]
  },
  {
   "cell_type": "markdown",
   "metadata": {},
   "source": [
    "Load the BBC news dataset also making a transformation for getting 1 when the category is politics and 0 otherwise"
   ]
  },
  {
   "cell_type": "code",
   "execution_count": 12,
   "metadata": {
    "ExecuteTime": {
     "end_time": "2020-10-02T07:51:04.250650Z",
     "start_time": "2020-10-02T07:51:04.181262Z"
    }
   },
   "outputs": [],
   "source": [
    "polit_X_train, polit_X_test, polit_y_train, polit_y_test = load_politics_data(\"../sklwrapper/tests/fixtures/bbc-text.csv\")"
   ]
  },
  {
   "cell_type": "markdown",
   "metadata": {},
   "source": [
    "We create the uncertaintywrapper referencing to the black box"
   ]
  },
  {
   "cell_type": "code",
   "execution_count": 13,
   "metadata": {
    "ExecuteTime": {
     "end_time": "2020-10-02T07:51:30.944551Z",
     "start_time": "2020-10-02T07:51:30.941434Z"
    }
   },
   "outputs": [],
   "source": [
    "uncertainty_wrapper = UncertaintyWrapperEstimator(black_box=politics_model)"
   ]
  },
  {
   "cell_type": "markdown",
   "metadata": {},
   "source": [
    "And train the wrapper (mind that we are using the same vectorizer for the input as in the blackbox)"
   ]
  },
  {
   "cell_type": "code",
   "execution_count": 14,
   "metadata": {
    "ExecuteTime": {
     "end_time": "2020-10-02T07:52:15.551456Z",
     "start_time": "2020-10-02T07:51:56.014394Z"
    }
   },
   "outputs": [
    {
     "name": "stdout",
     "output_type": "stream",
     "text": [
      "WARNING:tensorflow:From /Users/jose.mena/dev/miniconda3/envs/wrapper_library/lib/python3.6/site-packages/tensorflow_core/python/ops/resource_variable_ops.py:1630: calling BaseResourceVariable.__init__ (from tensorflow.python.ops.resource_variable_ops) with constraint is deprecated and will be removed in a future version.\n",
      "Instructions for updating:\n",
      "If using Keras pass *_constraint arguments to layers.\n",
      "WARNING:tensorflow:From ../sklwrapper/models/dirichlet_wrapper.py:26: The name tf.log is deprecated. Please use tf.math.log instead.\n",
      "\n",
      "WARNING:tensorflow:From /Users/jose.mena/dev/miniconda3/envs/wrapper_library/lib/python3.6/site-packages/tensorflow_core/python/ops/math_grad.py:1424: where (from tensorflow.python.ops.array_ops) is deprecated and will be removed in a future version.\n",
      "Instructions for updating:\n",
      "Use tf.where in 2.0, which has the same broadcast rule as np.where\n",
      "Train on 1424 samples, validate on 356 samples\n",
      "Epoch 1/50\n",
      "1424/1424 [==============================] - 1s 436us/sample - loss: 6.2304 - mu_accuracy: 0.7296 - min_beta: 0.4904 - max_beta: 0.5015 - val_loss: 5.6320 - val_mu_accuracy: 0.7556 - val_min_beta: 0.4799 - val_max_beta: 0.4921\n",
      "Epoch 2/50\n",
      "1424/1424 [==============================] - 0s 298us/sample - loss: 6.2302 - mu_accuracy: 0.7296 - min_beta: 0.4688 - max_beta: 0.4844 - val_loss: 5.6317 - val_mu_accuracy: 0.7556 - val_min_beta: 0.4566 - val_max_beta: 0.4736\n",
      "Epoch 3/50\n",
      "1424/1424 [==============================] - 0s 269us/sample - loss: 6.2299 - mu_accuracy: 0.7296 - min_beta: 0.4415 - max_beta: 0.4646 - val_loss: 5.6314 - val_mu_accuracy: 0.7556 - val_min_beta: 0.4227 - val_max_beta: 0.4492\n",
      "Epoch 4/50\n",
      "1424/1424 [==============================] - 0s 283us/sample - loss: 6.2296 - mu_accuracy: 0.7296 - min_beta: 0.4005 - max_beta: 0.4356 - val_loss: 5.6310 - val_mu_accuracy: 0.7556 - val_min_beta: 0.3754 - val_max_beta: 0.4178\n",
      "Epoch 5/50\n",
      "1424/1424 [==============================] - 0s 300us/sample - loss: 6.2291 - mu_accuracy: 0.7296 - min_beta: 0.3452 - max_beta: 0.3974 - val_loss: 5.6305 - val_mu_accuracy: 0.7556 - val_min_beta: 0.3163 - val_max_beta: 0.3724\n",
      "Epoch 6/50\n",
      "1424/1424 [==============================] - 0s 292us/sample - loss: 6.2286 - mu_accuracy: 0.7296 - min_beta: 0.2782 - max_beta: 0.3505 - val_loss: 5.6299 - val_mu_accuracy: 0.7556 - val_min_beta: 0.2395 - val_max_beta: 0.3203\n",
      "Epoch 7/50\n",
      "1424/1424 [==============================] - 0s 281us/sample - loss: 6.2279 - mu_accuracy: 0.7296 - min_beta: 0.2013 - max_beta: 0.2932 - val_loss: 5.6292 - val_mu_accuracy: 0.7556 - val_min_beta: 0.1583 - val_max_beta: 0.2580\n",
      "Epoch 8/50\n",
      "1424/1424 [==============================] - 0s 309us/sample - loss: 6.1898 - mu_accuracy: 0.7296 - min_beta: 0.1220 - max_beta: 0.2342 - val_loss: 5.5936 - val_mu_accuracy: 0.7556 - val_min_beta: 0.1069 - val_max_beta: 0.2047\n",
      "Epoch 9/50\n",
      "1424/1424 [==============================] - 0s 311us/sample - loss: 5.5497 - mu_accuracy: 0.7296 - min_beta: 0.0733 - max_beta: 0.1786 - val_loss: 3.1269 - val_mu_accuracy: 0.7556 - val_min_beta: 0.0521 - val_max_beta: 0.1407\n",
      "Epoch 10/50\n",
      "1424/1424 [==============================] - 0s 300us/sample - loss: 2.3041 - mu_accuracy: 0.7296 - min_beta: 0.0324 - max_beta: 0.1172 - val_loss: 1.0654 - val_mu_accuracy: 0.7556 - val_min_beta: 0.0182 - val_max_beta: 0.0822\n",
      "Epoch 11/50\n",
      "1424/1424 [==============================] - 0s 301us/sample - loss: 0.9387 - mu_accuracy: 0.7296 - min_beta: 0.0100 - max_beta: 0.0655 - val_loss: 0.6541 - val_mu_accuracy: 0.7556 - val_min_beta: 0.0063 - val_max_beta: 0.0459\n",
      "Epoch 12/50\n",
      "1424/1424 [==============================] - 0s 254us/sample - loss: 0.6498 - mu_accuracy: 0.7296 - min_beta: 0.0039 - max_beta: 0.0374 - val_loss: 0.5708 - val_mu_accuracy: 0.7556 - val_min_beta: 0.0027 - val_max_beta: 0.0290\n",
      "Epoch 13/50\n",
      "1424/1424 [==============================] - 0s 227us/sample - loss: 0.5962 - mu_accuracy: 0.7296 - min_beta: 0.0017 - max_beta: 0.0258 - val_loss: 0.5674 - val_mu_accuracy: 0.7556 - val_min_beta: 0.0018 - val_max_beta: 0.0205\n",
      "Epoch 14/50\n",
      "1424/1424 [==============================] - 0s 258us/sample - loss: 0.5951 - mu_accuracy: 0.7296 - min_beta: 0.0011 - max_beta: 0.0188 - val_loss: 0.5748 - val_mu_accuracy: 0.7556 - val_min_beta: 0.0014 - val_max_beta: 0.0174\n",
      "Epoch 15/50\n",
      "1424/1424 [==============================] - 0s 236us/sample - loss: 0.5978 - mu_accuracy: 0.7296 - min_beta: 8.9319e-04 - max_beta: 0.0172 - val_loss: 0.5773 - val_mu_accuracy: 0.7556 - val_min_beta: 0.0012 - val_max_beta: 0.0151\n",
      "Epoch 16/50\n",
      "1424/1424 [==============================] - 0s 219us/sample - loss: 0.5979 - mu_accuracy: 0.7296 - min_beta: 7.6818e-04 - max_beta: 0.0172 - val_loss: 0.5753 - val_mu_accuracy: 0.7556 - val_min_beta: 0.0010 - val_max_beta: 0.0170\n",
      "Epoch 17/50\n",
      "1424/1424 [==============================] - 0s 287us/sample - loss: 0.5930 - mu_accuracy: 0.7296 - min_beta: 8.7881e-04 - max_beta: 0.0174 - val_loss: 0.5683 - val_mu_accuracy: 0.7556 - val_min_beta: 0.0012 - val_max_beta: 0.0168\n",
      "Epoch 18/50\n",
      "1424/1424 [==============================] - 0s 295us/sample - loss: 0.5862 - mu_accuracy: 0.7296 - min_beta: 0.0010 - max_beta: 0.0188 - val_loss: 0.5598 - val_mu_accuracy: 0.7556 - val_min_beta: 0.0015 - val_max_beta: 0.0185\n",
      "Epoch 19/50\n",
      "1424/1424 [==============================] - 0s 213us/sample - loss: 0.5775 - mu_accuracy: 0.7296 - min_beta: 0.0013 - max_beta: 0.0223 - val_loss: 0.5508 - val_mu_accuracy: 0.7556 - val_min_beta: 0.0019 - val_max_beta: 0.0211\n",
      "Epoch 20/50\n",
      "1424/1424 [==============================] - 0s 224us/sample - loss: 0.5689 - mu_accuracy: 0.7296 - min_beta: 0.0015 - max_beta: 0.0245 - val_loss: 0.5415 - val_mu_accuracy: 0.7556 - val_min_beta: 0.0026 - val_max_beta: 0.0283\n",
      "Epoch 21/50\n",
      "1424/1424 [==============================] - 0s 242us/sample - loss: 0.5586 - mu_accuracy: 0.7296 - min_beta: 0.0020 - max_beta: 0.0284 - val_loss: 0.5337 - val_mu_accuracy: 0.7556 - val_min_beta: 0.0033 - val_max_beta: 0.0327\n",
      "Epoch 22/50\n",
      "1424/1424 [==============================] - 1s 414us/sample - loss: 0.5484 - mu_accuracy: 0.7296 - min_beta: 0.0021 - max_beta: 0.0306 - val_loss: 0.5262 - val_mu_accuracy: 0.7556 - val_min_beta: 0.0034 - val_max_beta: 0.0313\n",
      "Epoch 23/50\n",
      "1424/1424 [==============================] - 0s 340us/sample - loss: 0.5379 - mu_accuracy: 0.7296 - min_beta: 0.0021 - max_beta: 0.0338 - val_loss: 0.5184 - val_mu_accuracy: 0.7556 - val_min_beta: 0.0032 - val_max_beta: 0.0349\n",
      "Epoch 24/50\n",
      "1424/1424 [==============================] - 0s 269us/sample - loss: 0.5236 - mu_accuracy: 0.7296 - min_beta: 0.0022 - max_beta: 0.0358 - val_loss: 0.5095 - val_mu_accuracy: 0.7556 - val_min_beta: 0.0031 - val_max_beta: 0.0444\n",
      "Epoch 25/50\n",
      "1424/1424 [==============================] - 0s 234us/sample - loss: 0.5089 - mu_accuracy: 0.7296 - min_beta: 0.0020 - max_beta: 0.0396 - val_loss: 0.4952 - val_mu_accuracy: 0.7556 - val_min_beta: 0.0030 - val_max_beta: 0.0454\n",
      "Epoch 26/50\n",
      "1424/1424 [==============================] - 0s 230us/sample - loss: 0.4910 - mu_accuracy: 0.7296 - min_beta: 0.0022 - max_beta: 0.0515 - val_loss: 0.4876 - val_mu_accuracy: 0.7556 - val_min_beta: 0.0029 - val_max_beta: 0.0617\n",
      "Epoch 27/50\n",
      "1424/1424 [==============================] - 0s 260us/sample - loss: 0.4739 - mu_accuracy: 0.7296 - min_beta: 0.0019 - max_beta: 0.0618 - val_loss: 0.4747 - val_mu_accuracy: 0.7556 - val_min_beta: 0.0023 - val_max_beta: 0.0716\n",
      "Epoch 28/50\n",
      "1424/1424 [==============================] - 0s 251us/sample - loss: 0.4574 - mu_accuracy: 0.7296 - min_beta: 0.0016 - max_beta: 0.0744 - val_loss: 0.4685 - val_mu_accuracy: 0.7556 - val_min_beta: 0.0018 - val_max_beta: 0.0876\n",
      "Epoch 29/50\n",
      "1424/1424 [==============================] - 0s 221us/sample - loss: 0.4424 - mu_accuracy: 0.7296 - min_beta: 0.0012 - max_beta: 0.0982 - val_loss: 0.4646 - val_mu_accuracy: 0.7556 - val_min_beta: 0.0016 - val_max_beta: 0.1094\n",
      "Epoch 30/50\n",
      "1424/1424 [==============================] - 0s 212us/sample - loss: 0.4315 - mu_accuracy: 0.7296 - min_beta: 0.0011 - max_beta: 0.1349 - val_loss: 0.4632 - val_mu_accuracy: 0.7556 - val_min_beta: 0.0016 - val_max_beta: 0.1433\n",
      "Epoch 31/50\n",
      "1424/1424 [==============================] - 0s 210us/sample - loss: 0.4182 - mu_accuracy: 0.7296 - min_beta: 9.5734e-04 - max_beta: 0.1480 - val_loss: 0.4602 - val_mu_accuracy: 0.7556 - val_min_beta: 0.0011 - val_max_beta: 0.1230\n",
      "Epoch 32/50\n",
      "1424/1424 [==============================] - 0s 216us/sample - loss: 0.4078 - mu_accuracy: 0.7296 - min_beta: 7.3770e-04 - max_beta: 0.1644 - val_loss: 0.4579 - val_mu_accuracy: 0.7556 - val_min_beta: 0.0014 - val_max_beta: 0.1670\n",
      "Epoch 33/50\n",
      "1424/1424 [==============================] - 0s 213us/sample - loss: 0.3974 - mu_accuracy: 0.7296 - min_beta: 6.9286e-04 - max_beta: 0.1882 - val_loss: 0.4685 - val_mu_accuracy: 0.7556 - val_min_beta: 0.0011 - val_max_beta: 0.1949\n",
      "Epoch 34/50\n",
      "1424/1424 [==============================] - 0s 228us/sample - loss: 0.3897 - mu_accuracy: 0.7296 - min_beta: 7.9099e-04 - max_beta: 0.2114 - val_loss: 0.4714 - val_mu_accuracy: 0.7556 - val_min_beta: 8.4075e-04 - val_max_beta: 0.2071\n",
      "Epoch 35/50\n",
      "1424/1424 [==============================] - 0s 213us/sample - loss: 0.3811 - mu_accuracy: 0.7296 - min_beta: 5.4376e-04 - max_beta: 0.2105 - val_loss: 0.4638 - val_mu_accuracy: 0.7556 - val_min_beta: 7.7671e-04 - val_max_beta: 0.2100\n",
      "Epoch 36/50\n",
      "1424/1424 [==============================] - 0s 208us/sample - loss: 0.3715 - mu_accuracy: 0.7296 - min_beta: 5.5229e-04 - max_beta: 0.2430 - val_loss: 0.5317 - val_mu_accuracy: 0.7556 - val_min_beta: 9.8237e-04 - val_max_beta: 0.2470\n",
      "Epoch 37/50\n",
      "1424/1424 [==============================] - 0s 214us/sample - loss: 0.3633 - mu_accuracy: 0.7296 - min_beta: 5.1572e-04 - max_beta: 0.2597 - val_loss: 0.4780 - val_mu_accuracy: 0.7556 - val_min_beta: 6.8696e-04 - val_max_beta: 0.2397\n",
      "Epoch 38/50\n",
      "1424/1424 [==============================] - 0s 216us/sample - loss: 0.3542 - mu_accuracy: 0.7296 - min_beta: 4.0215e-04 - max_beta: 0.2752 - val_loss: 0.5083 - val_mu_accuracy: 0.7556 - val_min_beta: 7.3853e-04 - val_max_beta: 0.2750\n",
      "Epoch 39/50\n",
      "1424/1424 [==============================] - 0s 223us/sample - loss: 0.3458 - mu_accuracy: 0.7296 - min_beta: 3.7861e-04 - max_beta: 0.2999 - val_loss: 0.5763 - val_mu_accuracy: 0.7556 - val_min_beta: 5.2722e-04 - val_max_beta: 0.2916\n",
      "Epoch 40/50\n",
      "1424/1424 [==============================] - 0s 222us/sample - loss: 0.3399 - mu_accuracy: 0.7296 - min_beta: 3.2219e-04 - max_beta: 0.3106 - val_loss: 0.5670 - val_mu_accuracy: 0.7556 - val_min_beta: 4.5781e-04 - val_max_beta: 0.2693\n",
      "Epoch 41/50\n",
      "1424/1424 [==============================] - 0s 221us/sample - loss: 0.3312 - mu_accuracy: 0.7296 - min_beta: 3.2507e-04 - max_beta: 0.3316 - val_loss: 0.5887 - val_mu_accuracy: 0.7556 - val_min_beta: 5.8049e-04 - val_max_beta: 0.3273\n",
      "Epoch 42/50\n",
      "1424/1424 [==============================] - 0s 223us/sample - loss: 0.3246 - mu_accuracy: 0.7296 - min_beta: 3.2070e-04 - max_beta: 0.3416 - val_loss: 0.6074 - val_mu_accuracy: 0.7556 - val_min_beta: 5.2063e-04 - val_max_beta: 0.3402\n",
      "Epoch 43/50\n",
      "1424/1424 [==============================] - 0s 212us/sample - loss: 0.3174 - mu_accuracy: 0.7296 - min_beta: 2.4774e-04 - max_beta: 0.3584 - val_loss: 0.6682 - val_mu_accuracy: 0.7556 - val_min_beta: 4.8761e-04 - val_max_beta: 0.3534\n",
      "Epoch 44/50\n",
      "1424/1424 [==============================] - 0s 235us/sample - loss: 0.3117 - mu_accuracy: 0.7296 - min_beta: 2.2838e-04 - max_beta: 0.3607 - val_loss: 0.6245 - val_mu_accuracy: 0.7556 - val_min_beta: 3.3185e-04 - val_max_beta: 0.3537\n",
      "Epoch 45/50\n",
      "1424/1424 [==============================] - 0s 220us/sample - loss: 0.3059 - mu_accuracy: 0.7296 - min_beta: 2.0798e-04 - max_beta: 0.3720 - val_loss: 0.7031 - val_mu_accuracy: 0.7556 - val_min_beta: 2.8639e-04 - val_max_beta: 0.3750\n",
      "Epoch 46/50\n",
      "1424/1424 [==============================] - 0s 214us/sample - loss: 0.3005 - mu_accuracy: 0.7296 - min_beta: 2.0313e-04 - max_beta: 0.3782 - val_loss: 0.6924 - val_mu_accuracy: 0.7556 - val_min_beta: 2.5457e-04 - val_max_beta: 0.3611\n",
      "Epoch 47/50\n",
      "1424/1424 [==============================] - 0s 217us/sample - loss: 0.2956 - mu_accuracy: 0.7296 - min_beta: 1.5443e-04 - max_beta: 0.3922 - val_loss: 0.6917 - val_mu_accuracy: 0.7556 - val_min_beta: 2.3504e-04 - val_max_beta: 0.3891\n",
      "Epoch 48/50\n",
      "1424/1424 [==============================] - 0s 221us/sample - loss: 0.2908 - mu_accuracy: 0.7296 - min_beta: 1.4584e-04 - max_beta: 0.3942 - val_loss: 0.8797 - val_mu_accuracy: 0.7556 - val_min_beta: 3.3185e-04 - val_max_beta: 0.3752\n",
      "Epoch 49/50\n",
      "1424/1424 [==============================] - 0s 214us/sample - loss: 0.2858 - mu_accuracy: 0.7296 - min_beta: 1.2436e-04 - max_beta: 0.3905 - val_loss: 0.7994 - val_mu_accuracy: 0.7556 - val_min_beta: 1.9167e-04 - val_max_beta: 0.3939\n",
      "Epoch 50/50\n",
      "1424/1424 [==============================] - 0s 214us/sample - loss: 0.2817 - mu_accuracy: 0.7296 - min_beta: 1.1835e-04 - max_beta: 0.3933 - val_loss: 0.8771 - val_mu_accuracy: 0.7556 - val_min_beta: 1.6668e-04 - val_max_beta: 0.3916\n"
     ]
    },
    {
     "data": {
      "text/plain": [
       "UncertaintyWrapperEstimator(black_box=PoliticsClassifierWrapper(black_box=MultinomialNB()))"
      ]
     },
     "execution_count": 14,
     "metadata": {},
     "output_type": "execute_result"
    }
   ],
   "source": [
    "uncertainty_wrapper.fit(tfidf_vectorizer.transform(polit_X_train), polit_y_train)"
   ]
  },
  {
   "cell_type": "markdown",
   "metadata": {},
   "source": [
    "Then we can obtain pairs of predictions and uncertainties"
   ]
  },
  {
   "cell_type": "code",
   "execution_count": 17,
   "metadata": {
    "ExecuteTime": {
     "end_time": "2020-10-02T07:53:59.837385Z",
     "start_time": "2020-10-02T07:53:59.514281Z"
    }
   },
   "outputs": [
    {
     "name": "stdout",
     "output_type": "stream",
     "text": [
      "WARNING:tensorflow:From ../sklwrapper/classifier_uncertainty.py:109: The name tf.keras.backend.get_session is deprecated. Please use tf.compat.v1.keras.backend.get_session instead.\n",
      "\n"
     ]
    }
   ],
   "source": [
    "polit_y_pred_uncert = uncertainty_wrapper.predict(tfidf_vectorizer.transform(polit_X_test))"
   ]
  },
  {
   "cell_type": "markdown",
   "metadata": {},
   "source": [
    "## Analyse the results"
   ]
  },
  {
   "cell_type": "markdown",
   "metadata": {
    "ExecuteTime": {
     "end_time": "2020-10-02T07:53:13.004644Z",
     "start_time": "2020-10-02T07:53:12.999764Z"
    }
   },
   "source": [
    "We compare the accuracy when removing the predictions that are more uncertain in the new problem"
   ]
  },
  {
   "cell_type": "code",
   "execution_count": 18,
   "metadata": {
    "ExecuteTime": {
     "end_time": "2020-10-02T07:54:14.762188Z",
     "start_time": "2020-10-02T07:54:14.753898Z"
    }
   },
   "outputs": [
    {
     "name": "stdout",
     "output_type": "stream",
     "text": [
      "accuracy of the black-box for politics: 0.7617977528089888\n",
      "accuracy of the black-box for politics for keeping the more 394 confident preds out of 445: 0.8147208121827412\n"
     ]
    }
   ],
   "source": [
    "polit_y_pred = polit_y_pred_uncert[:, 0]\n",
    "polit_y_uncerts = polit_y_pred_uncert[:, 1]\n",
    "print('accuracy of the black-box for politics: {}'.format(accuracy_score(polit_y_test, polit_y_pred)))\n",
    "UNCERTAINTY_THRESHOLD = 0.69\n",
    "polit_y_uncertain_preds_indexes = polit_y_uncerts < UNCERTAINTY_THRESHOLD\n",
    "print('accuracy of the black-box for politics for keeping the more {} confident preds out of {}: {}'.format(\n",
    "    np.count_nonzero(polit_y_uncertain_preds_indexes),\n",
    "    polit_y_uncerts.shape[0],\n",
    "    accuracy_score(np.array(polit_y_test)[polit_y_uncertain_preds_indexes],\n",
    "                   polit_y_pred[polit_y_uncertain_preds_indexes])))"
   ]
  },
  {
   "cell_type": "markdown",
   "metadata": {},
   "source": [
    "We can observe how the accuracy of the system when applied to the preserved data points has increased in almost 5 points."
   ]
  },
  {
   "cell_type": "code",
   "execution_count": null,
   "metadata": {},
   "outputs": [],
   "source": []
  }
 ],
 "metadata": {
  "kernelspec": {
   "display_name": "Python 3",
   "language": "python",
   "name": "python3"
  },
  "language_info": {
   "codemirror_mode": {
    "name": "ipython",
    "version": 3
   },
   "file_extension": ".py",
   "mimetype": "text/x-python",
   "name": "python",
   "nbconvert_exporter": "python",
   "pygments_lexer": "ipython3",
   "version": "3.6.11"
  },
  "latex_envs": {
   "LaTeX_envs_menu_present": true,
   "autoclose": false,
   "autocomplete": true,
   "bibliofile": "biblio.bib",
   "cite_by": "apalike",
   "current_citInitial": 1,
   "eqLabelWithNumbers": true,
   "eqNumInitial": 1,
   "hotkeys": {
    "equation": "Ctrl-E",
    "itemize": "Ctrl-I"
   },
   "labels_anchors": false,
   "latex_user_defs": false,
   "report_style_numbering": false,
   "user_envs_cfg": false
  },
  "varInspector": {
   "cols": {
    "lenName": 16,
    "lenType": 16,
    "lenVar": 40
   },
   "kernels_config": {
    "python": {
     "delete_cmd_postfix": "",
     "delete_cmd_prefix": "del ",
     "library": "var_list.py",
     "varRefreshCmd": "print(var_dic_list())"
    },
    "r": {
     "delete_cmd_postfix": ") ",
     "delete_cmd_prefix": "rm(",
     "library": "var_list.r",
     "varRefreshCmd": "cat(var_dic_list()) "
    }
   },
   "types_to_exclude": [
    "module",
    "function",
    "builtin_function_or_method",
    "instance",
    "_Feature"
   ],
   "window_display": false
  }
 },
 "nbformat": 4,
 "nbformat_minor": 4
}
