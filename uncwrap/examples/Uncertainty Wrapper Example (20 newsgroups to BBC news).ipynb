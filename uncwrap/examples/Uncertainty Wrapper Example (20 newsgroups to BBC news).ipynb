{
 "cells": [
  {
   "cell_type": "markdown",
   "metadata": {},
   "source": [
    "# Uncertainty wrapper Example\n",
    "\n",
    "### Apply a classifier trained for the 20 newsgroups to the BBC news dataset\n",
    "\n",
    "This script shows how to apply the uncertainty wrapper to enrich the predictions of a trained classifier with \n",
    "the corresponding uncertainty when applied to a new domain of application. The goal is to show how to use\n",
    "a classifier already trained for one task in another task, and how we can measure that the blackbox adapts for the \n",
    "new task. We will see how wecan identify the cases where the blackbox is less confident on its predictions, \n",
    "and how we can increase the accuracy of the resulting system by rejecting those examples that more uncertain.\n",
    "\n",
    "It first trains a naive bayes classifier over newsgroups that will be the blackbox in this example. \n",
    "Then, it uses it for predicting whether a new text is talking about politics or not, by grouping all the\n",
    "newsgroups that are related to politics.\n",
    "As the target application, it uses the dataset on BBC news(https://www.kaggle.com/yufengdev/bbc-fulltext-and-category),\n",
    "making a binary classifier to predict if a news talks about politics or not."
   ]
  },
  {
   "cell_type": "code",
   "execution_count": 3,
   "metadata": {
    "ExecuteTime": {
     "end_time": "2020-10-09T15:46:51.814520Z",
     "start_time": "2020-10-09T15:46:49.567097Z"
    }
   },
   "outputs": [],
   "source": [
    "import numpy as np\n",
    "from sklearn.datasets import fetch_20newsgroups\n",
    "from sklearn.feature_extraction.text import TfidfVectorizer\n",
    "from sklearn.naive_bayes import MultinomialNB\n",
    "from sklearn.metrics import accuracy_score\n",
    "import sys\n",
    "sys.path.append('..')\n",
    "from uncwrap import UncertaintyWrapperEstimator\n",
    "from uncwrap.tests.test_utils import PoliticsClassifierWrapper, load_politics_data"
   ]
  },
  {
   "cell_type": "markdown",
   "metadata": {},
   "source": [
    "## Preparing the blackbox\n",
    "First we load the 20 newsgroups dataset"
   ]
  },
  {
   "cell_type": "code",
   "execution_count": 4,
   "metadata": {
    "ExecuteTime": {
     "end_time": "2020-10-09T15:46:54.440022Z",
     "start_time": "2020-10-09T15:46:53.924188Z"
    }
   },
   "outputs": [],
   "source": [
    "newsgroups_train = fetch_20newsgroups(subset='train')\n",
    "newsgroups_test = fetch_20newsgroups(subset='test')\n",
    "\n",
    "X_train = newsgroups_train.data\n",
    "X_test = newsgroups_test.data\n",
    "\n",
    "y_train = newsgroups_train.target\n",
    "y_test = newsgroups_test.target"
   ]
  },
  {
   "cell_type": "markdown",
   "metadata": {},
   "source": [
    "We create a tf/idf vectorizer for texts. It is important to remark here that it will be the same that we use for computing the uncertainty, as we need to use the same representation for obtaining the predictions when calling the blackbox trained for newsgroups."
   ]
  },
  {
   "cell_type": "code",
   "execution_count": 5,
   "metadata": {
    "ExecuteTime": {
     "end_time": "2020-10-09T15:46:59.888566Z",
     "start_time": "2020-10-09T15:46:56.906506Z"
    }
   },
   "outputs": [
    {
     "data": {
      "text/plain": [
       "TfidfVectorizer(max_features=1000)"
      ]
     },
     "execution_count": 5,
     "metadata": {},
     "output_type": "execute_result"
    }
   ],
   "source": [
    "tfidf_vectorizer = TfidfVectorizer(max_features=1000)\n",
    "tfidf_vectorizer.fit(X_train)"
   ]
  },
  {
   "cell_type": "markdown",
   "metadata": {},
   "source": [
    "We build a very simple naive bayes model using the 20 newsgroups data that will become the blackbox model.\n",
    "Observe that in this case the results are categorical, which means that we cannot use the output probabilities as a measure of uncertainty."
   ]
  },
  {
   "cell_type": "code",
   "execution_count": 6,
   "metadata": {
    "ExecuteTime": {
     "end_time": "2020-10-09T15:47:04.633363Z",
     "start_time": "2020-10-09T15:47:01.969546Z"
    }
   },
   "outputs": [
    {
     "data": {
      "text/plain": [
       "MultinomialNB()"
      ]
     },
     "execution_count": 6,
     "metadata": {},
     "output_type": "execute_result"
    }
   ],
   "source": [
    "blackbox_model = MultinomialNB()\n",
    "blackbox_model.fit(tfidf_vectorizer.transform(X_train), y_train)"
   ]
  },
  {
   "cell_type": "markdown",
   "metadata": {},
   "source": [
    "We compute the accuracy of the 20 newsgroups dataset to check that the blackbox works"
   ]
  },
  {
   "cell_type": "code",
   "execution_count": 7,
   "metadata": {
    "ExecuteTime": {
     "end_time": "2020-10-09T15:47:07.993170Z",
     "start_time": "2020-10-09T15:47:06.204354Z"
    }
   },
   "outputs": [
    {
     "data": {
      "text/plain": [
       "'accuracy of the black-box in test: 0.6565321295804567'"
      ]
     },
     "execution_count": 7,
     "metadata": {},
     "output_type": "execute_result"
    }
   ],
   "source": [
    "y_pred = blackbox_model.predict(tfidf_vectorizer.transform(X_test))\n",
    "'accuracy of the black-box in test: {}'.format(accuracy_score(y_test, y_pred))"
   ]
  },
  {
   "cell_type": "markdown",
   "metadata": {},
   "source": [
    "## Apply to the new problem\n",
    "To apply the blackbox just created for the binary problem of predicting if a news talks about politics or not\n",
    "we create a wrapper that returns 1 for those news that are related to politics and 0 otherwise."
   ]
  },
  {
   "cell_type": "code",
   "execution_count": 8,
   "metadata": {
    "ExecuteTime": {
     "end_time": "2020-10-09T15:47:11.281877Z",
     "start_time": "2020-10-09T15:47:09.718453Z"
    }
   },
   "outputs": [
    {
     "data": {
      "text/plain": [
       "'accuracy of the black-box adapted to the politics use case in test: 0.6565321295804567'"
      ]
     },
     "execution_count": 8,
     "metadata": {},
     "output_type": "execute_result"
    }
   ],
   "source": [
    "politics_model = PoliticsClassifierWrapper(blackbox_model)\n",
    "y_pred2 = politics_model.predict(tfidf_vectorizer.transform(X_test))\n",
    "'accuracy of the black-box adapted to the politics use case in test: {}'.format(accuracy_score(y_test, y_pred))"
   ]
  },
  {
   "cell_type": "markdown",
   "metadata": {},
   "source": [
    "Load the BBC news dataset also making a transformation for getting 1 when the category is politics and 0 otherwise"
   ]
  },
  {
   "cell_type": "code",
   "execution_count": 9,
   "metadata": {
    "ExecuteTime": {
     "end_time": "2020-10-09T15:47:21.729232Z",
     "start_time": "2020-10-09T15:47:21.672566Z"
    }
   },
   "outputs": [],
   "source": [
    "polit_X_train, polit_X_test, polit_y_train, polit_y_test = load_politics_data(\"../tests/fixtures/bbc-text.csv\")"
   ]
  },
  {
   "cell_type": "markdown",
   "metadata": {},
   "source": [
    "We create the uncertaintywrapper referencing to the black box"
   ]
  },
  {
   "cell_type": "code",
   "execution_count": 10,
   "metadata": {
    "ExecuteTime": {
     "end_time": "2020-10-09T15:47:24.123469Z",
     "start_time": "2020-10-09T15:47:24.119555Z"
    }
   },
   "outputs": [],
   "source": [
    "uncertainty_wrapper = UncertaintyWrapperEstimator(black_box=politics_model)"
   ]
  },
  {
   "cell_type": "markdown",
   "metadata": {},
   "source": [
    "And train the wrapper (mind that we are using the same vectorizer for the input as in the blackbox)"
   ]
  },
  {
   "cell_type": "code",
   "execution_count": 11,
   "metadata": {
    "ExecuteTime": {
     "end_time": "2020-10-09T15:47:43.005304Z",
     "start_time": "2020-10-09T15:47:26.344102Z"
    }
   },
   "outputs": [
    {
     "name": "stdout",
     "output_type": "stream",
     "text": [
      "WARNING:tensorflow:From /Users/n955171/miniconda3/envs/uncertanty_modeller_env/lib/python3.6/site-packages/tensorflow_core/python/ops/resource_variable_ops.py:1630: calling BaseResourceVariable.__init__ (from tensorflow.python.ops.resource_variable_ops) with constraint is deprecated and will be removed in a future version.\n",
      "Instructions for updating:\n",
      "If using Keras pass *_constraint arguments to layers.\n",
      "WARNING:tensorflow:From /Users/n955171/miniconda3/envs/uncertanty_modeller_env/lib/python3.6/site-packages/uncwrap/models/dirichlet_wrapper.py:87: The name tf.log is deprecated. Please use tf.math.log instead.\n",
      "\n",
      "WARNING:tensorflow:From /Users/n955171/miniconda3/envs/uncertanty_modeller_env/lib/python3.6/site-packages/tensorflow_core/python/ops/math_grad.py:1424: where (from tensorflow.python.ops.array_ops) is deprecated and will be removed in a future version.\n",
      "Instructions for updating:\n",
      "Use tf.where in 2.0, which has the same broadcast rule as np.where\n"
     ]
    },
    {
     "data": {
      "text/plain": [
       "UncertaintyWrapperEstimator(black_box=PoliticsClassifierWrapper(black_box=MultinomialNB()))"
      ]
     },
     "execution_count": 11,
     "metadata": {},
     "output_type": "execute_result"
    }
   ],
   "source": [
    "uncertainty_wrapper.fit(tfidf_vectorizer.transform(polit_X_train), polit_y_train)"
   ]
  },
  {
   "cell_type": "markdown",
   "metadata": {},
   "source": [
    "Then we can obtain pairs of predictions and uncertainties"
   ]
  },
  {
   "cell_type": "code",
   "execution_count": 12,
   "metadata": {
    "ExecuteTime": {
     "end_time": "2020-10-09T15:47:44.908779Z",
     "start_time": "2020-10-09T15:47:44.625175Z"
    }
   },
   "outputs": [
    {
     "name": "stdout",
     "output_type": "stream",
     "text": [
      "WARNING:tensorflow:From /Users/n955171/miniconda3/envs/uncertanty_modeller_env/lib/python3.6/site-packages/uncwrap/classifier_uncertainty.py:135: The name tf.keras.backend.get_session is deprecated. Please use tf.compat.v1.keras.backend.get_session instead.\n",
      "\n"
     ]
    }
   ],
   "source": [
    "polit_y_pred_uncert = uncertainty_wrapper.predict(tfidf_vectorizer.transform(polit_X_test))"
   ]
  },
  {
   "cell_type": "markdown",
   "metadata": {},
   "source": [
    "## Analyse the results"
   ]
  },
  {
   "cell_type": "markdown",
   "metadata": {
    "ExecuteTime": {
     "end_time": "2020-10-02T07:53:13.004644Z",
     "start_time": "2020-10-02T07:53:12.999764Z"
    }
   },
   "source": [
    "We compare the accuracy when removing the predictions that are more uncertain in the new problem"
   ]
  },
  {
   "cell_type": "code",
   "execution_count": null,
   "metadata": {},
   "outputs": [],
   "source": [
    "polit_y_pred = polit_y_pred_uncert[:, 0]\n",
    "polit_y_uncerts = polit_y_pred_uncert[:, 1]\n",
    "print('accuracy of the black-box for politics: {}'.format(accuracy_score(polit_y_test, polit_y_pred)))"
   ]
  },
  {
   "cell_type": "code",
   "execution_count": 32,
   "metadata": {},
   "outputs": [
    {
     "data": {
      "image/png": "[encoded data removed]",
      "text/plain": [
       "<Figure size 720x720 with 1 Axes>"
      ]
     },
     "metadata": {
      "needs_background": "light"
     },
     "output_type": "display_data"
    }
   ],
   "source": [
    "%matplotlib inline\n",
    "from matplotlib import pyplot as plt\n",
    "plt.figure(figsize=(10,10))\n",
    "plt.hist(polit_y_uncerts, bins=30, label='uncertainties');"
   ]
  },
  {
   "cell_type": "code",
   "execution_count": 31,
   "metadata": {
    "ExecuteTime": {
     "end_time": "2020-10-09T15:47:46.565537Z",
     "start_time": "2020-10-09T15:47:46.556339Z"
    }
   },
   "outputs": [
    {
     "name": "stdout",
     "output_type": "stream",
     "text": [
      "accuracy of the black-box for politics for keeping the more 326 confident preds out of 445(73.3%): 0.8466257668711656\n"
     ]
    }
   ],
   "source": [
    "UNCERTAINTY_THRESHOLD = 0.62\n",
    "confident_texts = np.count_nonzero(polit_y_uncertain_preds_indexes)\n",
    "total_texts = polit_y_uncerts.shape[0]\n",
    "percentage = (confident_texts / total_texts)\n",
    "accuracy = accuracy_score(np.array(polit_y_test)[polit_y_uncertain_preds_indexes],\n",
    "                   polit_y_pred[polit_y_uncertain_preds_indexes])\n",
    "polit_y_uncertain_preds_indexes = polit_y_uncerts < UNCERTAINTY_THRESHOLD\n",
    "print('accuracy of the black-box for politics for keeping the more {} confident preds out of {}({:.1%}): {}'.format(\n",
    "    confident_texts,\n",
    "    total_texts,\n",
    "    percentage,\n",
    "    accuracy\n",
    "    ))"
   ]
  },
  {
   "cell_type": "markdown",
   "metadata": {},
   "source": [
    "We can observe how the accuracy of the system when applied to the preserved data points has increased in almost 5 points."
   ]
  },
  {
   "cell_type": "code",
   "execution_count": null,
   "metadata": {},
   "outputs": [],
   "source": []
  }
 ],
 "metadata": {
  "kernelspec": {
   "display_name": "Python 3",
   "language": "python",
   "name": "python3"
  },
  "language_info": {
   "codemirror_mode": {
    "name": "ipython",
    "version": 3
   },
   "file_extension": ".py",
   "mimetype": "text/x-python",
   "name": "python",
   "nbconvert_exporter": "python",
   "pygments_lexer": "ipython3",
   "version": "3.6.2"
  },
  "latex_envs": {
   "LaTeX_envs_menu_present": true,
   "autoclose": false,
   "autocomplete": true,
   "bibliofile": "biblio.bib",
   "cite_by": "apalike",
   "current_citInitial": 1,
   "eqLabelWithNumbers": true,
   "eqNumInitial": 1,
   "hotkeys": {
    "equation": "Ctrl-E",
    "itemize": "Ctrl-I"
   },
   "labels_anchors": false,
   "latex_user_defs": false,
   "report_style_numbering": false,
   "user_envs_cfg": false
  },
  "varInspector": {
   "cols": {
    "lenName": 16,
    "lenType": 16,
    "lenVar": 40
   },
   "kernels_config": {
    "python": {
     "delete_cmd_postfix": "",
     "delete_cmd_prefix": "del ",
     "library": "var_list.py",
     "varRefreshCmd": "print(var_dic_list())"
    },
    "r": {
     "delete_cmd_postfix": ") ",
     "delete_cmd_prefix": "rm(",
     "library": "var_list.r",
     "varRefreshCmd": "cat(var_dic_list()) "
    }
   },
   "types_to_exclude": [
    "module",
    "function",
    "builtin_function_or_method",
    "instance",
    "_Feature"
   ],
   "window_display": false
  }
 },
 "nbformat": 4,
 "nbformat_minor": 4
}
